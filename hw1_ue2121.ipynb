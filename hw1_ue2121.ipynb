{
 "cells": [
  {
   "cell_type": "markdown",
   "metadata": {},
   "source": [
    "#### Question 1. Equated Monthly Installment."
   ]
  },
  {
   "cell_type": "code",
   "execution_count": null,
   "metadata": {},
   "outputs": [],
   "source": [
    "def compute_emi(rate :float,N :int,PV :int,FV :int):\n",
    "    EMI = (PV+FV/pow(1+rate,N))*(rate*pow(1+rate,N)/(pow(1+rate,N)-1)) \n",
    "    return EMI "
   ]
  },
  {
   "cell_type": "markdown",
   "metadata": {},
   "source": [
    "Write a Python program asks the user to enter PV and FV and returns the computed EMI for rate=0.04, N=20. The program displays the computed EMI to the user."
   ]
  },
  {
   "cell_type": "code",
   "execution_count": null,
   "metadata": {},
   "outputs": [],
   "source": [
    "rate = 0.04\n",
    "N = 20\n",
    "\n",
    "while (1):\n",
    "    try: #Use inbuilt input() function to get an integer\n",
    "        PV = int(input(\"Please enter PV: \"))\n",
    "        FV = int(input(\"Please enter FV: \"))\n",
    "    except: \n",
    "        print(\"Not an integer! Try again\")\n",
    "    else: #EMI is calculated if entered PV and FV are integers\n",
    "        break\n",
    "EMI = compute_emi(rate,N,PV,FV)\n",
    "print(\"EMI equals\", EMI)"
   ]
  },
  {
   "cell_type": "markdown",
   "metadata": {},
   "source": [
    "#### Question 2. "
   ]
  },
  {
   "cell_type": "markdown",
   "metadata": {},
   "source": [
    "Write a Python code which takes a text file as an input and writes into an output file the list of unique words, sorted based on their character length in a descending order. You should convert all letters to lowercase before you proceed with creating the list of unique words. You may assume that the file contains only words separated by a single space."
   ]
  },
  {
   "cell_type": "code",
   "execution_count": 130,
   "metadata": {},
   "outputs": [
    {
     "name": "stdout",
     "output_type": "stream",
     "text": [
      "established\n",
      "university\n",
      "selective\n",
      "manhattan\n",
      "business\n",
      "columbia\n",
      "schools\n",
      "league\n",
      "school\n",
      "oldest\n",
      "among\n",
      "world\n",
      "york\n",
      "1916\n",
      "city\n",
      "most\n",
      "one\n",
      "the\n",
      "top\n",
      "and\n",
      "ivy\n",
      "six\n",
      "new\n",
      "it\n",
      "is\n",
      "in\n",
      "of\n"
     ]
    }
   ],
   "source": [
    "myfile = open('question2.txt')\n",
    "x = myfile.readlines()\n",
    "myfile.close()\n",
    "y=''.join(x)\n",
    "y=y.lower()\n",
    "y=y.replace(\"\\n\", \" \")\n",
    "unique = list(set(y.split(' ')))\n",
    "unique_sorted=sorted(unique, key = len,reverse=True)\n",
    "unique_sorted='\\n'.join(unique_sorted)\n",
    "print(unique_sorted)"
   ]
  },
  {
   "cell_type": "code",
   "execution_count": 131,
   "metadata": {},
   "outputs": [],
   "source": [
    "print(unique_sorted,  file=open('question2_answer.txt', 'w'))"
   ]
  },
  {
   "cell_type": "markdown",
   "metadata": {},
   "source": [
    "#### Question 3."
   ]
  },
  {
   "cell_type": "markdown",
   "metadata": {},
   "source": [
    "Create one dot plot, one bar plot, one boxplot, one pie chart, using at least two variables."
   ]
  },
  {
   "cell_type": "code",
   "execution_count": 132,
   "metadata": {},
   "outputs": [],
   "source": [
    "# import packages\n",
    "import pandas as pd\n",
    "import numpy as np\n",
    "import matplotlib.pyplot as plot\n",
    "#%matplotlib notebook\n",
    "%matplotlib inline\n",
    "plot.style.use('seaborn')"
   ]
  },
  {
   "cell_type": "markdown",
   "metadata": {},
   "source": [
    "We import the data on student performance in math in two Portugese schools. The data includes student grades, demographic, social and school related features. The data comes from UCI ML repository: http://archive.ics.uci.edu/ml/datasets/Student+Performance#"
   ]
  },
  {
   "cell_type": "code",
   "execution_count": 139,
   "metadata": {},
   "outputs": [
    {
     "name": "stdout",
     "output_type": "stream",
     "text": [
      "<class 'pandas.core.frame.DataFrame'>\n",
      "RangeIndex: 395 entries, 0 to 394\n",
      "Data columns (total 33 columns):\n",
      "school        395 non-null object\n",
      "sex           395 non-null object\n",
      "age           395 non-null int64\n",
      "address       395 non-null object\n",
      "famsize       395 non-null object\n",
      "Pstatus       395 non-null object\n",
      "Medu          395 non-null int64\n",
      "Fedu          395 non-null int64\n",
      "Mjob          395 non-null object\n",
      "Fjob          395 non-null object\n",
      "reason        395 non-null object\n",
      "guardian      395 non-null object\n",
      "traveltime    395 non-null int64\n",
      "studytime     395 non-null int64\n",
      "failures      395 non-null int64\n",
      "schoolsup     395 non-null object\n",
      "famsup        395 non-null object\n",
      "paid          395 non-null object\n",
      "activities    395 non-null object\n",
      "nursery       395 non-null object\n",
      "higher        395 non-null object\n",
      "internet      395 non-null object\n",
      "romantic      395 non-null object\n",
      "famrel        395 non-null int64\n",
      "freetime      395 non-null int64\n",
      "goout         395 non-null int64\n",
      "Dalc          395 non-null int64\n",
      "Walc          395 non-null int64\n",
      "health        395 non-null int64\n",
      "absences      395 non-null int64\n",
      "G1            395 non-null int64\n",
      "G2            395 non-null int64\n",
      "G3            395 non-null int64\n",
      "dtypes: int64(16), object(17)\n",
      "memory usage: 101.9+ KB\n"
     ]
    }
   ],
   "source": [
    "student = pd.read_csv('student-mat.csv', sep=\";\")\n",
    "student.info()"
   ]
  },
  {
   "cell_type": "markdown",
   "metadata": {},
   "source": [
    "Dot plot: we can see that some females skipped the school more than males."
   ]
  },
  {
   "cell_type": "code",
   "execution_count": 145,
   "metadata": {},
   "outputs": [
    {
     "data": {
      "image/png": "[encoded data removed]",
      "text/plain": [
       "<Figure size 360x360 with 1 Axes>"
      ]
     },
     "metadata": {
      "needs_background": "light"
     },
     "output_type": "display_data"
    }
   ],
   "source": [
    "x = student['sex'].values\n",
    "y = student['absences'].values\n",
    "plot.rcParams['figure.figsize'] = (5,5)\n",
    "plot.plot(x,y,'bo')\n",
    "plot.xlabel('Sex')\n",
    "plot.ylabel('Number of Absences')\n",
    "plot.title('Number of Absences by Sex')\n",
    "plot.show()"
   ]
  },
  {
   "cell_type": "markdown",
   "metadata": {},
   "source": [
    "Bar plot: math achievement by health status. We can see that poor health is unlikely to affect student performance."
   ]
  },
  {
   "cell_type": "code",
   "execution_count": 151,
   "metadata": {},
   "outputs": [
    {
     "data": {
      "image/png": "[encoded data removed]",
      "text/plain": [
       "<Figure size 720x432 with 1 Axes>"
      ]
     },
     "metadata": {
      "needs_background": "light"
     },
     "output_type": "display_data"
    }
   ],
   "source": [
    "x = student['health'].values\n",
    "y = student['G3'].values # math final grade\n",
    "plot.rcParams['figure.figsize'] = (10,6)\n",
    "plot.barh(x,y,0.5)\n",
    "plot.yticks(x)\n",
    "plot.xlabel('Final Math Grade')\n",
    "plot.ylabel('Health, where 1 - very bad')\n",
    "plot.title('Math Achievement by Health Status')\n",
    "plot.show()"
   ]
  },
  {
   "cell_type": "markdown",
   "metadata": {},
   "source": [
    "Boxplot: summarizes the distribution of student performance in math by sex. On average, performance of females is lower that performance of males."
   ]
  },
  {
   "cell_type": "code",
   "execution_count": 177,
   "metadata": {},
   "outputs": [
    {
     "data": {
      "text/plain": [
       "[Text(0, 0.5, 'Achievement'), Text(0.5, 0, 'Sex')]"
      ]
     },
     "execution_count": 177,
     "metadata": {},
     "output_type": "execute_result"
    },
    {
     "data": {
      "image/png": "[encoded data removed]",
      "text/plain": [
       "<Figure size 504x504 with 1 Axes>"
      ]
     },
     "metadata": {
      "needs_background": "light"
     },
     "output_type": "display_data"
    }
   ],
   "source": [
    "import seaborn as sns\n",
    "sns.boxplot(y='G3', x='sex',data=student).set(\n",
    "    xlabel='Sex', \n",
    "    ylabel='Achievement')"
   ]
  },
  {
   "cell_type": "markdown",
   "metadata": {},
   "source": [
    "Pie chart: show the share of male students who were in a romantic relationship at the time of data collection."
   ]
  },
  {
   "cell_type": "code",
   "execution_count": 221,
   "metadata": {},
   "outputs": [
    {
     "data": {
      "image/png": "[encoded data removed]",
      "text/plain": [
       "<Figure size 360x360 with 1 Axes>"
      ]
     },
     "metadata": {},
     "output_type": "display_data"
    }
   ],
   "source": [
    "y=student[student.sex == 'M'] # select a subset of males\n",
    "romantic_type=y.groupby('romantic').agg('count') # count which students were in a romantic relationship\n",
    "counts = romantic_type.sex.sort_values() # save data\n",
    "labels=\"yes\", \"no\"\n",
    "plot.rcParams['figure.figsize'] = (5,5)\n",
    "plot.pie(counts, labels=labels, shadow=True, startangle=90)\n",
    "plot.axis('equal')\n",
    "plot.title('Pie Chart')\n",
    "plot.show()"
   ]
  }
 ],
 "metadata": {
  "kernelspec": {
   "display_name": "Python 3",
   "language": "python",
   "name": "python3"
  },
  "language_info": {
   "codemirror_mode": {
    "name": "ipython",
    "version": 3
   },
   "file_extension": ".py",
   "mimetype": "text/x-python",
   "name": "python",
   "nbconvert_exporter": "python",
   "pygments_lexer": "ipython3",
   "version": "3.7.3"
  }
 },
 "nbformat": 4,
 "nbformat_minor": 2
}
